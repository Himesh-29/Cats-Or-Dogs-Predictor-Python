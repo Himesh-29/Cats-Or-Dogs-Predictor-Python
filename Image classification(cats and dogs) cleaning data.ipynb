{
 "cells": [
  {
   "cell_type": "code",
   "execution_count": 1,
   "id": "bc372587",
   "metadata": {},
   "outputs": [],
   "source": [
    "import numpy as np\n",
    "import cv2 #Converting images into arrays\n",
    "import os\n",
    "import random\n",
    "import matplotlib.pyplot as plt\n",
    "import pickle"
   ]
  },
  {
   "cell_type": "markdown",
   "id": "e060ee9c",
   "metadata": {},
   "source": [
    "## Loading the data and cleaning it"
   ]
  },
  {
   "cell_type": "code",
   "execution_count": 2,
   "id": "c0e4fdb3",
   "metadata": {},
   "outputs": [],
   "source": [
    "DIRECTORY=\".\\dataset\"\n",
    "CATEGORIES=[\"cats\",\"dogs\"]"
   ]
  },
  {
   "cell_type": "code",
   "execution_count": 3,
   "id": "7a9bb04f",
   "metadata": {},
   "outputs": [],
   "source": [
    "data=[]"
   ]
  },
  {
   "cell_type": "code",
   "execution_count": 4,
   "id": "e16f94c0",
   "metadata": {},
   "outputs": [],
   "source": [
    "for category in CATEGORIES:\n",
    "    folder=os.path.join(DIRECTORY,category)\n",
    "    label=CATEGORIES.index(category)\n",
    "    for img in os.listdir(folder):\n",
    "        img_path=os.path.join(folder,img)\n",
    "        img_arr=cv2.imread(img_path) #Reading the image path/Getting the image in the form of array\n",
    "        img_arr=cv2.resize(img_arr,(200,200)) #Resizing the array to a dimension of 200 x 200\n",
    "        data.append([img_arr,label])"
   ]
  },
  {
   "cell_type": "code",
   "execution_count": 5,
   "id": "383cade0",
   "metadata": {},
   "outputs": [
    {
     "data": {
      "text/plain": [
       "10000"
      ]
     },
     "execution_count": 5,
     "metadata": {},
     "output_type": "execute_result"
    }
   ],
   "source": [
    "len(data)"
   ]
  },
  {
   "cell_type": "code",
   "execution_count": 6,
   "id": "b319aeb8",
   "metadata": {},
   "outputs": [],
   "source": [
    "#To shuffle the data so that cats and dogs images are mixed together well\n",
    "random.shuffle(data)"
   ]
  },
  {
   "cell_type": "code",
   "execution_count": 7,
   "id": "2f16d24d",
   "metadata": {},
   "outputs": [],
   "source": [
    "features=[]\n",
    "labels=[]\n",
    "for feature,label in data:\n",
    "    features.append(feature)\n",
    "    labels.append(label)"
   ]
  },
  {
   "cell_type": "code",
   "execution_count": 8,
   "id": "33b04cd2",
   "metadata": {},
   "outputs": [],
   "source": [
    "features=np.array(features) #To convert list to numpy array of size 10000 x 200 x 200 x 3"
   ]
  },
  {
   "cell_type": "code",
   "execution_count": 9,
   "id": "b254fafa",
   "metadata": {},
   "outputs": [],
   "source": [
    "labels=np.array(labels) #To convert list to numpy array of size 10000"
   ]
  },
  {
   "cell_type": "code",
   "execution_count": 10,
   "id": "85b4de88",
   "metadata": {},
   "outputs": [
    {
     "name": "stdout",
     "output_type": "stream",
     "text": [
      "10000\n",
      "10000\n"
     ]
    }
   ],
   "source": [
    "print(len(features))\n",
    "print(len(labels))"
   ]
  },
  {
   "cell_type": "code",
   "execution_count": 11,
   "id": "5ca15cb9",
   "metadata": {},
   "outputs": [],
   "source": [
    "pickle.dump(features,open('features.pkl','wb'))\n",
    "pickle.dump(labels,open('labels.pkl','wb'))"
   ]
  }
 ],
 "metadata": {
  "kernelspec": {
   "display_name": "Python 3 (ipykernel)",
   "language": "python",
   "name": "python3"
  },
  "language_info": {
   "codemirror_mode": {
    "name": "ipython",
    "version": 3
   },
   "file_extension": ".py",
   "mimetype": "text/x-python",
   "name": "python",
   "nbconvert_exporter": "python",
   "pygments_lexer": "ipython3",
   "version": "3.9.6"
  }
 },
 "nbformat": 4,
 "nbformat_minor": 5
}
